








<!DOCTYPE html>
<html lang="en">

<head>
  <meta charset="utf-8">
  <title></title>
  <meta name="viewport" content="width=device-width, initial-scale=1.0">
  <meta name="description" content="">
  <meta name="author" content="">

  <!--NEW RELIC Start Perf Measurement-->
  
  <!--NREND-->

  <!-- Le styles -->
  <link href="/static/build/styles.css" rel="stylesheet">

  <!-- Le HTML5 shim, for IE6-8 support of HTML5 elements -->
  <!--[if lt IE 9]>
    <script src="http://html5shim.googlecode.com/svn/trunk/html5.js"></script>
  <![endif]-->

  <!-- Le fav and touch icons -->
  <link rel="shortcut icon" href="/static/ico/ipynb_icon_16x16.png">
  <link rel="apple-touch-icon-precomposed" sizes="144x144" 
        href="/static/ico/apple-touch-icon-144-precomposed.png">
  <link rel="apple-touch-icon-precomposed" sizes="114x114" 
        href="/static/ico/apple-touch-icon-114-precomposed.png">
  <link rel="apple-touch-icon-precomposed" sizes="72x72" 
        href="/static/ico/apple-touch-icon-72-precomposed.png">
  <link rel="apple-touch-icon-precomposed" 
        href="/static/ico/apple-touch-icon-57-precomposed.png">
  
  

  

  
  <meta name="twitter:card" content="summary">
  <meta name="twitter:title" content="Notebook on nbviewer">
  <meta name="twitter:description" content="Check out this Jupyter notebook!">

  
  <meta name="twitter:domain" content="nbviewer.ipython.org">
  <meta name="twitter:image:src" content="http://ipython.org/ipython-doc/dev/_images/ipynb_icon_128x128.png">

  <link href="/static/build/notebook.css" rel="stylesheet">
  
  <script src="https://cdn.mathjax.org/mathjax/latest/MathJax.js?config=TeX-AMS_HTML" type="text/javascript">
  </script>
  <script type="text/javascript">
    init_mathjax = function() {
      if (window.MathJax) {
        // MathJax loaded
        MathJax.Hub.Config({
          tex2jax: {
            inlineMath: [ ['$','$'], ["\\(","\\)"] ],
            displayMath: [ ['$$','$$'], ["\\[","\\]"] ],
            processEscapes: true,
            processEnvironments: true
          },
          displayAlign: 'center',
          "HTML-CSS": {
            styles: {'.MathJax_Display': {"margin": 0}},
            linebreaks: { automatic: true }
          }
        });
        MathJax.Hub.Queue(["Typeset",MathJax.Hub]);
      }
    }
    init_mathjax();
  </script>

</head>

<body data-spy="scroll" data-target=".subnav" data-offset="50">

  <!-- These are loaded at the top of the body so they are available to 
       notebook cells when they are loaded below. -->
  <script src="/static/components/jquery/dist/jquery.min.js"></script>
  <script src="/static/components/requirejs/require.js"></script>
  <script src="/static/components/moment/min/moment.min.js"></script>

<!-- Navbar
================================================== -->
  <nav id="menubar" class="navbar navbar-default navbar-fixed-top">
    <div class="container">
      <div class="navbar-header">
        <button type="button" class="navbar-toggle collapsed" data-toggle="collapse" data-target=".navbar-collapse">
          <span class="sr-only">Toggle navigation</span>
          <i class="fa fa-bars"></i>
        </button>
        <a class="navbar-brand" href="/">nbviewer</a>
      </div>

      <div class="collapse navbar-collapse">
        <ul class="nav navbar-nav">
          <li>
    <a href="/faq" title="FAQ" >
      
        <span>FAQ</span>
      
    </a>
  </li>
          <li class="">
            <a href="http://ipython.org">IPython</a>
          </li>
          <li class="">
            <a href="http://jupyter.org">Jupyter</a>
          </li>
        </ul>
        
        <ul class="nav navbar-nav navbar-right">
          

          
  

  
    <li>
    <a href="https://github.com/bgruening/notebooks/blob/master/Perl/perl_package_to_galaxy_tool_dependency.ipynb" title="Notebook Home" >
      <span class="fa fa-github fa-2x menu-icon"></span>
      <span class="menu-text">Notebook Home</span>
    </a>
  </li>
  
  
  <li>
    <a href="https://raw.githubusercontent.com/bgruening/notebooks/master/Perl/perl_package_to_galaxy_tool_dependency.ipynb" title="Download Notebook" download>
      <span class="fa fa-download fa-2x menu-icon"></span>
      <span class="menu-text">Download Notebook</span>
    </a>
  </li>

        </ul>
      </div><!-- /.navbar-collapse -->
    </div>
  </nav>

  <div class="container">
    
  
  <ol class="breadcrumb">
    
      <li>
        <a href="/github/bgruening/notebooks/tree/master">notebooks</a>
      </li>
    
      <li>
        <a href="/github/bgruening/notebooks/tree/master/Perl">Perl</a>
      </li>
    
  </ol>
  
  <div id="notebook">
    <div id="notebook-container">
      
<div class="cell border-box-sizing text_cell rendered">
<div class="prompt input_prompt">
</div>
<div class="inner_cell">
<div class="text_cell_render border-box-sizing rendered_html">
<h1 id="This-notebook-will-build-you-a-Galaxy-tool_dependencies.xml-file-for-Perl-packages.">This notebook will build you a Galaxy tool_dependencies.xml file for Perl packages.<a class="anchor-link" href="#This-notebook-will-build-you-a-Galaxy-tool_dependencies.xml-file-for-Perl-packages.">&#182;</a></h1>
</div>
</div>
</div>
<div class="cell border-box-sizing text_cell rendered">
<div class="prompt input_prompt">
</div>
<div class="inner_cell">
<div class="text_cell_render border-box-sizing rendered_html">
<p>Insert you package name into cell 1 and cell 4. A typical package name looks like 'HTTP::Client'.</p>

</div>
</div>
</div>
<div class="cell border-box-sizing code_cell rendered">
<div class="input">
<div class="prompt input_prompt">In&nbsp;[1]:</div>
<div class="inner_cell">
    <div class="input_area">
<div class=" highlight hl-ipython3"><pre><span class="n">perl_package_name</span> <span class="o">=</span> <span class="s">&#39;HTTP::Client&#39;</span>
<span class="n">toolshed_package_name</span> <span class="o">=</span> <span class="s">&#39;perl_http_client&#39;</span>
<span class="n">toolshed_package_version</span> <span class="o">=</span> <span class="s">&#39;1.57&#39;</span>
</pre></div>

</div>
</div>
</div>

</div>
<div class="cell border-box-sizing code_cell rendered">
<div class="input">
<div class="prompt input_prompt">In&nbsp;[2]:</div>
<div class="inner_cell">
    <div class="input_area">
<div class=" highlight hl-ipython3"><pre><span class="o">!</span>cpanm CPAN::FindDependencies
</pre></div>

</div>
</div>
</div>

<div class="output_wrapper">
<div class="output">


<div class="output_area"><div class="prompt"></div>
<div class="output_subarea output_stream output_stdout output_text">
<pre>!
! Can&apos;t write to /usr/local/share/perl/5.20.1 and /usr/local/bin: Installing modules to /home/bag/perl5
! To turn off this warning, you have to do one of the following:
!   - run me as a root or with --sudo option (to install to /usr/local/share/perl/5.20.1 and /usr/local/bin)
!   - Configure local::lib your existing local::lib in this shell to set PERL_MM_OPT etc.
!   - Install local::lib by running the following commands
!
!         cpanm --local-lib=~/perl5 local::lib &amp;&amp; eval $(perl -I ~/perl5/lib/perl5/ -Mlocal::lib)
!
CPAN::FindDependencies is up to date. (2.42)
</pre>
</div>
</div>

</div>
</div>

</div>
<div class="cell border-box-sizing code_cell rendered">
<div class="input">
<div class="prompt input_prompt">In&nbsp;[3]:</div>
<div class="inner_cell">
    <div class="input_area">
<div class=" highlight hl-ipython3"><pre><span class="o">!</span><span class="nb">export </span><span class="nv">PERL5LIB</span><span class="o">=</span><span class="nv">$HOME</span>/perl5/lib/perl5
</pre></div>

</div>
</div>
</div>

</div>
<div class="cell border-box-sizing code_cell rendered">
<div class="input">
<div class="prompt input_prompt">In&nbsp;[4]:</div>
<div class="inner_cell">
    <div class="input_area">
<div class=" highlight hl-ipython3"><pre><span class="nv">%%perl</span> <span class="o">--</span><span class="n">out</span> <span class="n">output</span> <span class="o">--</span><span class="n">err</span> <span class="n">error</span>
<span class="k">use</span> <span class="nn">CPAN::</span><span class="n">FindDependencies</span><span class="p">;</span>
<span class="nv">@deps</span> <span class="o">=</span> <span class="nn">CPAN::FindDependencies::</span><span class="n">finddeps</span><span class="p">(</span><span class="s">&#39;HTTP::Client&#39;</span><span class="p">);</span>
<span class="k">foreach</span> <span class="k">my</span> <span class="nv">$dep</span> <span class="p">(</span><span class="nv">@deps</span><span class="p">)</span> <span class="p">{</span>
    <span class="k">print</span> <span class="s">&#39; &#39;</span> <span class="n">x</span> <span class="nv">$dep</span><span class="o">-&gt;</span><span class="n">depth</span><span class="p">;</span>
    <span class="k">print</span> <span class="s">&quot;http://www.cpan.org/authors/id/&quot;</span><span class="p">,</span> <span class="nv">$dep</span><span class="o">-&gt;</span><span class="n">distribution</span><span class="p">(),</span> <span class="s">&quot;\n&quot;</span><span class="p">;</span>
<span class="p">}</span>
</pre></div>

</div>
</div>
</div>

</div>
<div class="cell border-box-sizing code_cell rendered">
<div class="input">
<div class="prompt input_prompt">In&nbsp;[5]:</div>
<div class="inner_cell">
    <div class="input_area">
<div class=" highlight hl-ipython3"><pre><span class="kn">from</span> <span class="nn">string</span> <span class="k">import</span> <span class="n">Template</span>
</pre></div>

</div>
</div>
</div>

</div>
<div class="cell border-box-sizing code_cell rendered">
<div class="input">
<div class="prompt input_prompt">In&nbsp;[6]:</div>
<div class="inner_cell">
    <div class="input_area">
<div class=" highlight hl-ipython3"><pre><span class="n">template</span> <span class="o">=</span> <span class="n">Template</span><span class="p">(</span><span class="s">&quot;&quot;&quot;</span>
<span class="s">&lt;tool_dependency&gt;</span>
<span class="s">    &lt;package name=&quot;perl&quot; version=&quot;5.18.1&quot;&gt;</span>
<span class="s">        &lt;repository name=&quot;package_perl_5_18&quot; owner=&quot;iuc&quot; prior_installation_required=&quot;True&quot; /&gt;</span>
<span class="s">    &lt;/package&gt;</span>
<span class="s">    &lt;package name=&quot;$toolshed_name&quot; version=&quot;$toolshed_version&quot;&gt;</span>
<span class="s">        &lt;install version=&quot;1.0&quot;&gt;</span>
<span class="s">            &lt;actions&gt;</span>
<span class="s">                &lt;action type=&quot;setup_perl_environment&quot;&gt;</span>
<span class="s">                    &lt;repository name=&quot;package_perl_5_18&quot; owner=&quot;iuc&quot;&gt;</span>
<span class="s">                        &lt;package name=&quot;perl&quot; version=&quot;5.18.1&quot; /&gt;</span>
<span class="s">                    &lt;/repository&gt;</span>
<span class="s">$package</span>
<span class="s">                &lt;/action&gt;</span>
<span class="s">            &lt;/actions&gt;</span>
<span class="s">        &lt;/install&gt;</span>
<span class="s">        &lt;readme&gt;&lt;![CDATA[</span>
<span class="s">            Perl package: $readme</span>
<span class="s">        ]]&gt;</span>
<span class="s">        &lt;/readme&gt;</span>
<span class="s">    &lt;/package&gt;</span>
<span class="s">&lt;/tool_dependency&gt;</span>
<span class="s">&quot;&quot;&quot;</span><span class="p">)</span>
</pre></div>

</div>
</div>
</div>

</div>
<div class="cell border-box-sizing code_cell rendered">
<div class="input">
<div class="prompt input_prompt">In&nbsp;[7]:</div>
<div class="inner_cell">
    <div class="input_area">
<div class=" highlight hl-ipython3"><pre><span class="n">package_content</span> <span class="o">=</span> <span class="p">[]</span>
<span class="k">for</span> <span class="n">line</span> <span class="ow">in</span> <span class="n">output</span><span class="o">.</span><span class="n">split</span><span class="p">():</span>
    <span class="n">line</span> <span class="o">=</span> <span class="n">line</span><span class="o">.</span><span class="n">strip</span><span class="p">()</span>
    <span class="k">if</span> <span class="n">line</span><span class="p">:</span>
        <span class="n">package_content</span><span class="o">.</span><span class="n">append</span><span class="p">(</span> <span class="s">&#39;                    &lt;package&gt;%s&lt;/package&gt;&#39;</span> <span class="o">%</span> <span class="n">line</span> <span class="p">)</span>

<span class="n">content</span> <span class="o">=</span> <span class="nb">dict</span><span class="p">(</span>
            <span class="n">readme</span><span class="o">=</span><span class="n">perl_package_name</span><span class="p">,</span> 
            <span class="n">package</span><span class="o">=</span><span class="s">&#39;</span><span class="se">\n</span><span class="s">&#39;</span><span class="o">.</span><span class="n">join</span><span class="p">(</span> <span class="nb">reversed</span><span class="p">(</span><span class="n">package_content</span><span class="p">)</span> <span class="p">),</span>
            <span class="n">toolshed_name</span><span class="o">=</span><span class="n">toolshed_package_name</span><span class="p">,</span>
            <span class="n">toolshed_version</span><span class="o">=</span><span class="n">toolshed_package_version</span>
        <span class="p">)</span>
<span class="nb">print</span> <span class="n">template</span><span class="o">.</span><span class="n">substitute</span><span class="p">(</span><span class="n">content</span><span class="p">)</span>
</pre></div>

</div>
</div>
</div>

<div class="output_wrapper">
<div class="output">


<div class="output_area"><div class="prompt"></div>
<div class="output_subarea output_stream output_stdout output_text">
<pre>
&lt;tool_dependency&gt;
    &lt;package name=&quot;perl&quot; version=&quot;5.18.1&quot;&gt;
        &lt;repository name=&quot;package_perl_5_18&quot; owner=&quot;iuc&quot; prior_installation_required=&quot;True&quot; /&gt;
    &lt;/package&gt;
    &lt;package name=&quot;perl_http_client&quot; version=&quot;1.57&quot;&gt;
        &lt;install version=&quot;1.0&quot;&gt;
            &lt;actions&gt;
                &lt;action type=&quot;setup_perl_environment&quot;&gt;
                    &lt;repository name=&quot;package_perl_5_18&quot; owner=&quot;iuc&quot;&gt;
                        &lt;package name=&quot;perl&quot; version=&quot;5.18.1&quot; /&gt;
                    &lt;/repository&gt;
                    &lt;package&gt;http://www.cpan.org/authors/id/G/GA/GAAS/WWW-RobotRules-6.02.tar.gz&lt;/package&gt;
                    &lt;package&gt;http://www.cpan.org/authors/id/G/GB/GBARR/IO-1.25.tar.gz&lt;/package&gt;
                    &lt;package&gt;http://www.cpan.org/authors/id/M/MS/MSCHILLI/Net-HTTP-6.07.tar.gz&lt;/package&gt;
                    &lt;package&gt;http://www.cpan.org/authors/id/P/PE/PEVANS/Socket-2.016.tar.gz&lt;/package&gt;
                    &lt;package&gt;http://www.cpan.org/authors/id/S/SH/SHAY/libnet-3.04.tar.gz&lt;/package&gt;
                    &lt;package&gt;http://www.cpan.org/authors/id/G/GA/GAAS/HTTP-Negotiate-6.01.tar.gz&lt;/package&gt;
                    &lt;package&gt;http://www.cpan.org/authors/id/G/GA/GAAS/HTTP-Daemon-6.01.tar.gz&lt;/package&gt;
                    &lt;package&gt;http://www.cpan.org/authors/id/E/ET/ETHER/URI-1.65.tar.gz&lt;/package&gt;
                    &lt;package&gt;http://www.cpan.org/authors/id/G/GA/GAAS/LWP-MediaTypes-6.02.tar.gz&lt;/package&gt;
                    &lt;package&gt;http://www.cpan.org/authors/id/D/DL/DLAND/File-Path-2.09.tar.gz&lt;/package&gt;
                    &lt;package&gt;http://www.cpan.org/authors/id/D/DA/DAGOLDEN/File-Temp-0.2304.tar.gz&lt;/package&gt;
                    &lt;package&gt;http://www.cpan.org/authors/id/C/CJ/CJM/IO-HTML-1.001.tar.gz&lt;/package&gt;
                    &lt;package&gt;http://www.cpan.org/authors/id/P/PM/PMQS/Compress-Raw-Bzip2-2.068.tar.gz&lt;/package&gt;
                    &lt;package&gt;http://www.cpan.org/authors/id/P/PM/PMQS/IO-Compress-2.068.tar.gz&lt;/package&gt;
                    &lt;package&gt;http://www.cpan.org/authors/id/P/PM/PMQS/Compress-Raw-Zlib-2.068.tar.gz&lt;/package&gt;
                    &lt;package&gt;http://www.cpan.org/authors/id/G/GA/GAAS/HTTP-Message-6.06.tar.gz&lt;/package&gt;
                    &lt;package&gt;http://www.cpan.org/authors/id/G/GA/GAAS/HTTP-Cookies-6.01.tar.gz&lt;/package&gt;
                    &lt;package&gt;http://www.cpan.org/authors/id/P/PE/PETDANCE/HTML-Tagset-3.20.tar.gz&lt;/package&gt;
                    &lt;package&gt;http://www.cpan.org/authors/id/G/GA/GAAS/HTML-Parser-3.71.tar.gz&lt;/package&gt;
                    &lt;package&gt;http://www.cpan.org/authors/id/D/DR/DROLSKY/Time-Local-1.2300.tar.gz&lt;/package&gt;
                    &lt;package&gt;http://www.cpan.org/authors/id/G/GA/GAAS/HTTP-Date-6.02.tar.gz&lt;/package&gt;
                    &lt;package&gt;http://www.cpan.org/authors/id/G/GA/GAAS/File-Listing-6.04.tar.gz&lt;/package&gt;
                    &lt;package&gt;http://www.cpan.org/authors/id/G/GA/GAAS/Encode-Locale-1.03.tar.gz&lt;/package&gt;
                    &lt;package&gt;http://www.cpan.org/authors/id/S/SA/SAPER/XSLoader-0.16.tar.gz&lt;/package&gt;
                    &lt;package&gt;http://www.cpan.org/authors/id/G/GA/GAAS/MIME-Base64-3.14.tar.gz&lt;/package&gt;
                    &lt;package&gt;http://www.cpan.org/authors/id/G/GA/GAAS/Digest-1.17.tar.gz&lt;/package&gt;
                    &lt;package&gt;http://www.cpan.org/authors/id/G/GA/GAAS/Digest-MD5-2.53.tar.gz&lt;/package&gt;
                    &lt;package&gt;http://www.cpan.org/authors/id/M/MS/MSCHILLI/libwww-perl-6.08.tar.gz&lt;/package&gt;
                    &lt;package&gt;http://www.cpan.org/authors/id/A/AD/ADAMK/LWP-Online-1.08.tar.gz&lt;/package&gt;
                    &lt;package&gt;http://www.cpan.org/authors/id/M/MU/MUIR/modules/Text-Tabs+Wrap-2013.0523.tar.gz&lt;/package&gt;
                    &lt;package&gt;http://www.cpan.org/authors/id/J/JE/JESSE/Test-1.26.tar.gz&lt;/package&gt;
                    &lt;package&gt;http://www.cpan.org/authors/id/N/NE/NEILB/Pod-Escapes-1.07.tar.gz&lt;/package&gt;
                    &lt;package&gt;http://www.cpan.org/authors/id/D/DW/DWHEELER/Pod-Simple-3.28.tar.gz&lt;/package&gt;
                    &lt;package&gt;http://www.cpan.org/authors/id/R/RR/RRA/podlators-2.5.3.tar.gz&lt;/package&gt;
                    &lt;package&gt;http://www.cpan.org/authors/id/S/SM/SMUELLER/PathTools-3.47.tar.gz&lt;/package&gt;
                    &lt;package&gt;http://www.cpan.org/authors/id/D/DA/DANKOGAI/Encode-2.67.tar.gz&lt;/package&gt;
                    &lt;package&gt;http://www.cpan.org/authors/id/B/BI/BINGOS/ExtUtils-MakeMaker-7.04.tar.gz&lt;/package&gt;
                    &lt;package&gt;http://www.cpan.org/authors/id/N/NE/NEILB/HTTP-Lite-2.43.tar.gz&lt;/package&gt;
                    &lt;package&gt;http://www.cpan.org/authors/id/C/CO/CORION/parent-0.228.tar.gz&lt;/package&gt;
                    &lt;package&gt;http://www.cpan.org/authors/id/R/RJ/RJBS/perl-5.18.4.tar.gz&lt;/package&gt;
                    &lt;package&gt;http://www.cpan.org/authors/id/L/LE/LEONT/Test-Harness-3.34.tar.gz&lt;/package&gt;
                    &lt;package&gt;http://www.cpan.org/authors/id/P/PE/PEVANS/Scalar-List-Utils-1.41.tar.gz&lt;/package&gt;
                    &lt;package&gt;http://www.cpan.org/authors/id/E/EX/EXODIST/Test-Simple-1.001014.tar.gz&lt;/package&gt;
                    &lt;package&gt;http://www.cpan.org/authors/id/R/RJ/RJBS/perl-5.20.0.tar.gz&lt;/package&gt;
                    &lt;package&gt;http://www.cpan.org/authors/id/T/TO/TODDR/Exporter-5.70.tar.gz&lt;/package&gt;
                    &lt;package&gt;http://www.cpan.org/authors/id/Z/ZE/ZEFRAM/Carp-1.3301.tar.gz&lt;/package&gt;
                    &lt;package&gt;http://www.cpan.org/authors/id/N/NE/NEILB/HTTP-Client-1.57.tar.gz&lt;/package&gt;
                &lt;/action&gt;
            &lt;/actions&gt;
        &lt;/install&gt;
        &lt;readme&gt;&lt;![CDATA[
            Perl package: HTTP::Client
        ]]&gt;
        &lt;/readme&gt;
    &lt;/package&gt;
&lt;/tool_dependency&gt;

</pre>
</div>
</div>

</div>
</div>

</div>
<div class="cell border-box-sizing code_cell rendered">
<div class="input">
<div class="prompt input_prompt">In&nbsp;[&nbsp;]:</div>
<div class="inner_cell">
    <div class="input_area">
<div class=" highlight hl-ipython3"><pre> 
</pre></div>

</div>
</div>
</div>

</div>
    </div>
  </div>


    <div class="back-to-top hidden-print text-center">
      <a href="#">Back to top</a>
    </div>

    
      <footer class="footer hidden-print col-md-12">
        <div class="col-md-4">
          <p>
            This web site does not host notebooks, it only renders notebooks
            available on other websites.
          </p>
        </div>

        <div class="col-md-4">
          <p>
            Delivered by <a href="http://www.fastly.com/">Fastly</a>, 
            Rendered by <a href="https://developer.rackspace.com/?nbviewer=awesome">Rackspace</a>
          </p>
          <p>
            nbviewer GitHub <a href="https://github.com/jupyter/nbviewer">repository</a>.
          </p>
        </div>

        <div class="col-md-4">
          
  
            
              <p>
                nbviewer version:
                <a href="https://github.com/jupyter/nbviewer/commit/7f784ce2587724e464fc34545018d2df8ed0573d">
                  7f784ce
                </a>
              </p>
            
          
  
  <p class="text-muted">
    IPython version: 3.1.0-dev
    
    (<a href="https://github.com/ipython/ipython/commit/3924fe0">
      3924fe0
    </a>)
    
  </p>
  

          
  
  
  <p class="text-muted">
    Rendered
    <span class='date' data-date='Wed, 18 Mar 2015 20:17:49 UTC' title='Wed, 18 Mar 2015 20:17:49 UTC'>(Wed, 18 Mar 2015 20:17:49 UTC)</span>
  </p>
  

        </div>
      </footer>
    

  </div><!-- /container -->

  <script src="/static/components/bootstrap/js/bootstrap.min.js"></script>
  <script src="/static/components/headroom.js/dist/headroom.min.js"></script>
  <script src="/static/components/headroom.js/dist/jQuery.headroom.min.js"></script>

  
  
  <script>
    $(function(){ $("#menubar").headroom({
      tolerance: 5,
      offset: 205,
      classes: {
        initial: "animated",
        pinned: "slideInDown",
        unpinned: "slideOutUp"
      }
    })});
  </script>


  <script>
    (function(i,s,o,g,r,a,m){i['GoogleAnalyticsObject']=r;i[r]=i[r]||function(){
      (i[r].q=i[r].q||[]).push(arguments)},i[r].l=1*new Date();a=s.createElement(o),
      m=s.getElementsByTagName(o)[0];a.async=1;a.src=g;m.parentNode.insertBefore(a,m)
    })(window,document,'script','//www.google-analytics.com/analytics.js','ga');
    ga('create', 'UA-38683231-2', 'auto');
    ga('send', 'pageview');
  </script>
  <script>
      var update_date  = function(){
          var str = window.moment($('.date').data('date')).fromNow();
          $('.date').text(str);
      }
      setInterval(update_date , 61*1000);
      $(update_date);
  </script>
  <!--NEW RELIC Stop Perf Measurement-->
  
  <!--NEW RELIC End-->
</body>
</html>